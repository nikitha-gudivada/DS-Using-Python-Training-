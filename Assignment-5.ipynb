{
 "cells": [
  {
   "cell_type": "code",
   "execution_count": 12,
   "id": "b76d845f",
   "metadata": {},
   "outputs": [
    {
     "data": {
      "text/html": [
       "<div>\n",
       "<style scoped>\n",
       "    .dataframe tbody tr th:only-of-type {\n",
       "        vertical-align: middle;\n",
       "    }\n",
       "\n",
       "    .dataframe tbody tr th {\n",
       "        vertical-align: top;\n",
       "    }\n",
       "\n",
       "    .dataframe thead th {\n",
       "        text-align: right;\n",
       "    }\n",
       "</style>\n",
       "<table border=\"1\" class=\"dataframe\">\n",
       "  <thead>\n",
       "    <tr style=\"text-align: right;\">\n",
       "      <th></th>\n",
       "      <th>Player</th>\n",
       "      <th>No of runs</th>\n",
       "      <th>No of wickets</th>\n",
       "      <th>Player Category</th>\n",
       "    </tr>\n",
       "  </thead>\n",
       "  <tbody>\n",
       "    <tr>\n",
       "      <th>0</th>\n",
       "      <td>P1</td>\n",
       "      <td>1100</td>\n",
       "      <td>5</td>\n",
       "      <td>Batsman</td>\n",
       "    </tr>\n",
       "    <tr>\n",
       "      <th>1</th>\n",
       "      <td>P2</td>\n",
       "      <td>45</td>\n",
       "      <td>120</td>\n",
       "      <td>Bowler</td>\n",
       "    </tr>\n",
       "    <tr>\n",
       "      <th>2</th>\n",
       "      <td>P3</td>\n",
       "      <td>57</td>\n",
       "      <td>280</td>\n",
       "      <td>Bowler</td>\n",
       "    </tr>\n",
       "    <tr>\n",
       "      <th>3</th>\n",
       "      <td>P4</td>\n",
       "      <td>89</td>\n",
       "      <td>110</td>\n",
       "      <td>Bowler</td>\n",
       "    </tr>\n",
       "    <tr>\n",
       "      <th>4</th>\n",
       "      <td>P5</td>\n",
       "      <td>1400</td>\n",
       "      <td>15</td>\n",
       "      <td>Batsman</td>\n",
       "    </tr>\n",
       "    <tr>\n",
       "      <th>5</th>\n",
       "      <td>P6</td>\n",
       "      <td>1234</td>\n",
       "      <td>17</td>\n",
       "      <td>Bowler</td>\n",
       "    </tr>\n",
       "    <tr>\n",
       "      <th>6</th>\n",
       "      <td>P7</td>\n",
       "      <td>35</td>\n",
       "      <td>700</td>\n",
       "      <td>Bowler</td>\n",
       "    </tr>\n",
       "    <tr>\n",
       "      <th>7</th>\n",
       "      <td>P8</td>\n",
       "      <td>90</td>\n",
       "      <td>650</td>\n",
       "      <td>Bowler</td>\n",
       "    </tr>\n",
       "    <tr>\n",
       "      <th>8</th>\n",
       "      <td>P9</td>\n",
       "      <td>1370</td>\n",
       "      <td>5</td>\n",
       "      <td>Batsman</td>\n",
       "    </tr>\n",
       "    <tr>\n",
       "      <th>9</th>\n",
       "      <td>P10</td>\n",
       "      <td>6700</td>\n",
       "      <td>15</td>\n",
       "      <td>Batsman</td>\n",
       "    </tr>\n",
       "    <tr>\n",
       "      <th>10</th>\n",
       "      <td>P11</td>\n",
       "      <td>55</td>\n",
       "      <td>197</td>\n",
       "      <td>Bowler</td>\n",
       "    </tr>\n",
       "    <tr>\n",
       "      <th>11</th>\n",
       "      <td>P12</td>\n",
       "      <td>80</td>\n",
       "      <td>140</td>\n",
       "      <td>Bowler</td>\n",
       "    </tr>\n",
       "    <tr>\n",
       "      <th>12</th>\n",
       "      <td>P13</td>\n",
       "      <td>1790</td>\n",
       "      <td>17</td>\n",
       "      <td>Batsman</td>\n",
       "    </tr>\n",
       "    <tr>\n",
       "      <th>13</th>\n",
       "      <td>P14</td>\n",
       "      <td>1200</td>\n",
       "      <td>7</td>\n",
       "      <td>Batsman</td>\n",
       "    </tr>\n",
       "    <tr>\n",
       "      <th>14</th>\n",
       "      <td>P15</td>\n",
       "      <td>100</td>\n",
       "      <td>200</td>\n",
       "      <td>Bowler</td>\n",
       "    </tr>\n",
       "    <tr>\n",
       "      <th>15</th>\n",
       "      <td>P16</td>\n",
       "      <td>150</td>\n",
       "      <td>250</td>\n",
       "      <td>Bowler</td>\n",
       "    </tr>\n",
       "    <tr>\n",
       "      <th>16</th>\n",
       "      <td>P17</td>\n",
       "      <td>1700</td>\n",
       "      <td>3</td>\n",
       "      <td>Batsman</td>\n",
       "    </tr>\n",
       "    <tr>\n",
       "      <th>17</th>\n",
       "      <td>P18</td>\n",
       "      <td>95</td>\n",
       "      <td>140</td>\n",
       "      <td>Bowler</td>\n",
       "    </tr>\n",
       "    <tr>\n",
       "      <th>18</th>\n",
       "      <td>P19</td>\n",
       "      <td>165</td>\n",
       "      <td>160</td>\n",
       "      <td>Bowler</td>\n",
       "    </tr>\n",
       "    <tr>\n",
       "      <th>19</th>\n",
       "      <td>P20</td>\n",
       "      <td>1745</td>\n",
       "      <td>8</td>\n",
       "      <td>Batsman</td>\n",
       "    </tr>\n",
       "  </tbody>\n",
       "</table>\n",
       "</div>"
      ],
      "text/plain": [
       "   Player No of runs No of wickets Player Category\n",
       "0      P1       1100             5         Batsman\n",
       "1      P2         45           120          Bowler\n",
       "2      P3         57           280          Bowler\n",
       "3      P4         89           110          Bowler\n",
       "4      P5       1400            15         Batsman\n",
       "5      P6       1234            17          Bowler\n",
       "6      P7         35           700          Bowler\n",
       "7      P8         90           650          Bowler\n",
       "8      P9       1370             5         Batsman\n",
       "9     P10       6700            15         Batsman\n",
       "10    P11         55           197          Bowler\n",
       "11    P12         80           140          Bowler\n",
       "12    P13       1790            17         Batsman\n",
       "13    P14       1200             7         Batsman\n",
       "14    P15        100           200          Bowler\n",
       "15    P16        150           250          Bowler\n",
       "16    P17       1700             3         Batsman\n",
       "17    P18         95           140          Bowler\n",
       "18    P19        165           160          Bowler\n",
       "19    P20       1745             8         Batsman"
      ]
     },
     "execution_count": 12,
     "metadata": {},
     "output_type": "execute_result"
    }
   ],
   "source": [
    "import pandas as pd\n",
    "data={'Player':['P1','P2','P3','P4','P5','P6','P7','P8','P9','P10','P11','P12','P13','P14','P15','P16','P17','P18','P19','P20'],\n",
    "      'No of runs':['1100','45','57','89','1400','1234','35','90','1370','6700','55','80','1790','1200','100','150','1700','95','165','1745'],\n",
    "       'No of wickets':['5','120','280','110','15','17','700','650','5','15','197','140','17','7','200','250','3','140','160','8'],\n",
    "       'Player Category':['Batsman','Bowler','Bowler','Bowler','Batsman','Bowler','Bowler','Bowler','Batsman','Batsman','Bowler','Bowler','Batsman','Batsman','Bowler','Bowler','Batsman','Bowler','Bowler','Batsman']\n",
    "      }\n",
    "d=pd.DataFrame(data)\n",
    "d"
   ]
  },
  {
   "cell_type": "code",
   "execution_count": 29,
   "id": "f22bf8a2",
   "metadata": {},
   "outputs": [
    {
     "data": {
      "image/png": "[encoded data removed]",
      "text/plain": [
       "<Figure size 432x288 with 1 Axes>"
      ]
     },
     "metadata": {
      "needs_background": "light"
     },
     "output_type": "display_data"
    }
   ],
   "source": [
    "import matplotlib.pyplot as plt\n",
    "plt.scatter(d['Player'],d['No of wickets'],color='m',marker='*')\n",
    "plt.show()"
   ]
  },
  {
   "cell_type": "code",
   "execution_count": 5,
   "id": "f399796b",
   "metadata": {},
   "outputs": [
    {
     "data": {
      "image/png": "[encoded data removed]",
      "text/plain": [
       "<Figure size 432x288 with 1 Axes>"
      ]
     },
     "metadata": {
      "needs_background": "light"
     },
     "output_type": "display_data"
    }
   ],
   "source": [
    "plt.scatter(d['Player'],d['No of runs'])\n",
    "plt.show()"
   ]
  },
  {
   "cell_type": "code",
   "execution_count": 20,
   "id": "9becaf57",
   "metadata": {},
   "outputs": [],
   "source": [
    "y=d['Player Category'].value_counts()\n"
   ]
  },
  {
   "cell_type": "code",
   "execution_count": 24,
   "id": "175f1d34",
   "metadata": {},
   "outputs": [],
   "source": [
    "x=['Bowler','Batsman']"
   ]
  },
  {
   "cell_type": "code",
   "execution_count": 25,
   "id": "12f87697",
   "metadata": {},
   "outputs": [
    {
     "data": {
      "text/plain": [
       "Bowler     12\n",
       "Batsman     8\n",
       "Name: Player Category, dtype: int64"
      ]
     },
     "execution_count": 25,
     "metadata": {},
     "output_type": "execute_result"
    }
   ],
   "source": [
    "y"
   ]
  },
  {
   "cell_type": "code",
   "execution_count": 31,
   "id": "ac770817",
   "metadata": {},
   "outputs": [
    {
     "data": {
      "text/plain": [
       "<BarContainer object of 2 artists>"
      ]
     },
     "execution_count": 31,
     "metadata": {},
     "output_type": "execute_result"
    },
    {
     "data": {
      "image/png": "[encoded data removed]",
      "text/plain": [
       "<Figure size 432x288 with 1 Axes>"
      ]
     },
     "metadata": {
      "needs_background": "light"
     },
     "output_type": "display_data"
    }
   ],
   "source": [
    "plt.bar(x,y,color='m')"
   ]
  },
  {
   "cell_type": "code",
   "execution_count": 33,
   "id": "9d321ab2",
   "metadata": {},
   "outputs": [],
   "source": [
    "f=open('xyz','x')\n",
    "f.close()"
   ]
  },
  {
   "cell_type": "code",
   "execution_count": null,
   "id": "0c3f70e7",
   "metadata": {},
   "outputs": [],
   "source": []
  }
 ],
 "metadata": {
  "kernelspec": {
   "display_name": "Python 3 (ipykernel)",
   "language": "python",
   "name": "python3"
  },
  "language_info": {
   "codemirror_mode": {
    "name": "ipython",
    "version": 3
   },
   "file_extension": ".py",
   "mimetype": "text/x-python",
   "name": "python",
   "nbconvert_exporter": "python",
   "pygments_lexer": "ipython3",
   "version": "3.10.2"
  }
 },
 "nbformat": 4,
 "nbformat_minor": 5
}
